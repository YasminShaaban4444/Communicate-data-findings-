{
 "cells": [
  {
   "cell_type": "markdown",
   "metadata": {
    "slideshow": {
     "slide_type": "skip"
    }
   },
   "source": [
    "# (Airline Delay Causes)\n",
    "\n",
    "## By Yasmin Shaaban\n",
    "\n",
    "## Preliminary Wrangling\n",
    "\n",
    "\n",
    "## Dataset Information: \n",
    "\n",
    "Airport information:\n",
    "\n",
    "* carrier: Airline code.\n",
    "* carrier_name: Airline name.\n",
    "* airport: Airport code.\n",
    "* airport_name: Airport name.\n",
    "\n",
    "Airport statistics:\n",
    "\n",
    "* arr_flights: Number of flights which arrived at the airport.\n",
    "* arr_del15: Number of flights delayed (>= 15minutes late).\n",
    "* carrier_ct: Number of flights delayed due to air carrier (e.g. maintenance or crew problems, aircraft cleaning, baggage loading, fueling, etc.).\n",
    "* weather_ct: Number of flights delayed due to weather.\n",
    "* nas_ct: Number of flights delayed due to National Aviation System (e.g. non-extreme weather conditions, airport operations, heavy traffic volume, and air traffic control).\n",
    "* security_ct: Number of flights delayed due to security (e.g. evacuation of a terminal or concourse, re-boarding of aircraft because of security breach, inoperative screening equipment and/or long lines in excess of 29 minutes at screening areas).\n",
    "* late_aircraft_ct: Number of flights delayed due to a previous flight using the same aircraft being late.\n",
    "* arr_cancelled: Number of cancelled flights.\n",
    "* arr_diverted: Number of diverted flights.\n",
    "* arr_delay: Total time (minutes) of delayed flights.\n",
    "* carrier_delay: Total time (minutes) of delayed flights due to air carrier.\n",
    "* weather_delay: Total time (minutes) of delayed flights due to weather.\n",
    "* nas_delay: Total time (minutes) of delayed flights due to National Aviation System.\n",
    "* security_delay: Total time (minutes) of delayed flights due to security.\n",
    "* late_aircraft_delay: Total time (minutes) of delayed flights due to a previous flight using the same aircraft being late.\n"
   ]
  },
  {
   "cell_type": "code",
   "execution_count": 33,
   "metadata": {
    "slideshow": {
     "slide_type": "skip"
    }
   },
   "outputs": [],
   "source": [
    "# import all packages and set plots to be embedded inline\n",
    "import numpy as np\n",
    "import pandas as pd\n",
    "import matplotlib.pyplot as plt\n",
    "import seaborn as sb\n",
    "import warnings \n",
    "warnings.filterwarnings('ignore')\n",
    "\n",
    "%matplotlib inline"
   ]
  },
  {
   "cell_type": "code",
   "execution_count": 34,
   "metadata": {
    "slideshow": {
     "slide_type": "skip"
    }
   },
   "outputs": [
    {
     "data": {
      "text/html": [
       "<div>\n",
       "<style scoped>\n",
       "    .dataframe tbody tr th:only-of-type {\n",
       "        vertical-align: middle;\n",
       "    }\n",
       "\n",
       "    .dataframe tbody tr th {\n",
       "        vertical-align: top;\n",
       "    }\n",
       "\n",
       "    .dataframe thead th {\n",
       "        text-align: right;\n",
       "    }\n",
       "</style>\n",
       "<table border=\"1\" class=\"dataframe\">\n",
       "  <thead>\n",
       "    <tr style=\"text-align: right;\">\n",
       "      <th></th>\n",
       "      <th>year</th>\n",
       "      <th>month</th>\n",
       "      <th>carrier</th>\n",
       "      <th>carrier_name</th>\n",
       "      <th>airport</th>\n",
       "      <th>airport_name</th>\n",
       "      <th>arr_flights</th>\n",
       "      <th>arr_del15</th>\n",
       "      <th>carrier_ct</th>\n",
       "      <th>weather_ct</th>\n",
       "      <th>...</th>\n",
       "      <th>late_aircraft_ct</th>\n",
       "      <th>arr_cancelled</th>\n",
       "      <th>arr_diverted</th>\n",
       "      <th>arr_delay</th>\n",
       "      <th>carrier_delay</th>\n",
       "      <th>weather_delay</th>\n",
       "      <th>nas_delay</th>\n",
       "      <th>security_delay</th>\n",
       "      <th>late_aircraft_delay</th>\n",
       "      <th>Unnamed: 21</th>\n",
       "    </tr>\n",
       "  </thead>\n",
       "  <tbody>\n",
       "    <tr>\n",
       "      <th>0</th>\n",
       "      <td>2019</td>\n",
       "      <td>1</td>\n",
       "      <td>MQ</td>\n",
       "      <td>Envoy Air</td>\n",
       "      <td>SAV</td>\n",
       "      <td>Savannah, GA: Savannah/Hilton Head International</td>\n",
       "      <td>65.0</td>\n",
       "      <td>15.0</td>\n",
       "      <td>3.41</td>\n",
       "      <td>0.71</td>\n",
       "      <td>...</td>\n",
       "      <td>6.56</td>\n",
       "      <td>1.0</td>\n",
       "      <td>1.0</td>\n",
       "      <td>601.0</td>\n",
       "      <td>180.0</td>\n",
       "      <td>29.0</td>\n",
       "      <td>129.0</td>\n",
       "      <td>0.0</td>\n",
       "      <td>263.0</td>\n",
       "      <td>NaN</td>\n",
       "    </tr>\n",
       "    <tr>\n",
       "      <th>1</th>\n",
       "      <td>2019</td>\n",
       "      <td>1</td>\n",
       "      <td>MQ</td>\n",
       "      <td>Envoy Air</td>\n",
       "      <td>SDF</td>\n",
       "      <td>Louisville, KY: Louisville Muhammad Ali Intern...</td>\n",
       "      <td>61.0</td>\n",
       "      <td>18.0</td>\n",
       "      <td>2.70</td>\n",
       "      <td>1.01</td>\n",
       "      <td>...</td>\n",
       "      <td>5.37</td>\n",
       "      <td>1.0</td>\n",
       "      <td>0.0</td>\n",
       "      <td>890.0</td>\n",
       "      <td>180.0</td>\n",
       "      <td>36.0</td>\n",
       "      <td>383.0</td>\n",
       "      <td>0.0</td>\n",
       "      <td>291.0</td>\n",
       "      <td>NaN</td>\n",
       "    </tr>\n",
       "    <tr>\n",
       "      <th>2</th>\n",
       "      <td>2019</td>\n",
       "      <td>1</td>\n",
       "      <td>MQ</td>\n",
       "      <td>Envoy Air</td>\n",
       "      <td>SGF</td>\n",
       "      <td>Springfield, MO: Springfield-Branson National</td>\n",
       "      <td>428.0</td>\n",
       "      <td>80.0</td>\n",
       "      <td>13.31</td>\n",
       "      <td>5.18</td>\n",
       "      <td>...</td>\n",
       "      <td>34.09</td>\n",
       "      <td>15.0</td>\n",
       "      <td>0.0</td>\n",
       "      <td>3954.0</td>\n",
       "      <td>705.0</td>\n",
       "      <td>213.0</td>\n",
       "      <td>982.0</td>\n",
       "      <td>0.0</td>\n",
       "      <td>2054.0</td>\n",
       "      <td>NaN</td>\n",
       "    </tr>\n",
       "    <tr>\n",
       "      <th>3</th>\n",
       "      <td>2019</td>\n",
       "      <td>1</td>\n",
       "      <td>MQ</td>\n",
       "      <td>Envoy Air</td>\n",
       "      <td>SHV</td>\n",
       "      <td>Shreveport, LA: Shreveport Regional</td>\n",
       "      <td>174.0</td>\n",
       "      <td>28.0</td>\n",
       "      <td>5.97</td>\n",
       "      <td>1.17</td>\n",
       "      <td>...</td>\n",
       "      <td>9.72</td>\n",
       "      <td>0.0</td>\n",
       "      <td>0.0</td>\n",
       "      <td>1655.0</td>\n",
       "      <td>360.0</td>\n",
       "      <td>55.0</td>\n",
       "      <td>268.0</td>\n",
       "      <td>0.0</td>\n",
       "      <td>972.0</td>\n",
       "      <td>NaN</td>\n",
       "    </tr>\n",
       "    <tr>\n",
       "      <th>4</th>\n",
       "      <td>2019</td>\n",
       "      <td>1</td>\n",
       "      <td>MQ</td>\n",
       "      <td>Envoy Air</td>\n",
       "      <td>SJT</td>\n",
       "      <td>San Angelo, TX: San Angelo Regional/Mathis Field</td>\n",
       "      <td>135.0</td>\n",
       "      <td>23.0</td>\n",
       "      <td>10.78</td>\n",
       "      <td>0.35</td>\n",
       "      <td>...</td>\n",
       "      <td>5.33</td>\n",
       "      <td>2.0</td>\n",
       "      <td>0.0</td>\n",
       "      <td>835.0</td>\n",
       "      <td>320.0</td>\n",
       "      <td>27.0</td>\n",
       "      <td>192.0</td>\n",
       "      <td>0.0</td>\n",
       "      <td>296.0</td>\n",
       "      <td>NaN</td>\n",
       "    </tr>\n",
       "  </tbody>\n",
       "</table>\n",
       "<p>5 rows × 22 columns</p>\n",
       "</div>"
      ],
      "text/plain": [
       "   year   month carrier carrier_name airport  \\\n",
       "0  2019       1      MQ    Envoy Air     SAV   \n",
       "1  2019       1      MQ    Envoy Air     SDF   \n",
       "2  2019       1      MQ    Envoy Air     SGF   \n",
       "3  2019       1      MQ    Envoy Air     SHV   \n",
       "4  2019       1      MQ    Envoy Air     SJT   \n",
       "\n",
       "                                        airport_name  arr_flights  arr_del15  \\\n",
       "0   Savannah, GA: Savannah/Hilton Head International         65.0       15.0   \n",
       "1  Louisville, KY: Louisville Muhammad Ali Intern...         61.0       18.0   \n",
       "2      Springfield, MO: Springfield-Branson National        428.0       80.0   \n",
       "3                Shreveport, LA: Shreveport Regional        174.0       28.0   \n",
       "4   San Angelo, TX: San Angelo Regional/Mathis Field        135.0       23.0   \n",
       "\n",
       "   carrier_ct   weather_ct  ...  late_aircraft_ct  arr_cancelled  \\\n",
       "0        3.41         0.71  ...              6.56            1.0   \n",
       "1        2.70         1.01  ...              5.37            1.0   \n",
       "2       13.31         5.18  ...             34.09           15.0   \n",
       "3        5.97         1.17  ...              9.72            0.0   \n",
       "4       10.78         0.35  ...              5.33            2.0   \n",
       "\n",
       "   arr_diverted   arr_delay   carrier_delay  weather_delay  nas_delay  \\\n",
       "0           1.0       601.0           180.0           29.0      129.0   \n",
       "1           0.0       890.0           180.0           36.0      383.0   \n",
       "2           0.0      3954.0           705.0          213.0      982.0   \n",
       "3           0.0      1655.0           360.0           55.0      268.0   \n",
       "4           0.0       835.0           320.0           27.0      192.0   \n",
       "\n",
       "   security_delay  late_aircraft_delay  Unnamed: 21  \n",
       "0             0.0                263.0          NaN  \n",
       "1             0.0                291.0          NaN  \n",
       "2             0.0               2054.0          NaN  \n",
       "3             0.0                972.0          NaN  \n",
       "4             0.0                296.0          NaN  \n",
       "\n",
       "[5 rows x 22 columns]"
      ]
     },
     "execution_count": 34,
     "metadata": {},
     "output_type": "execute_result"
    }
   ],
   "source": [
    "#read dataset\n",
    "df=pd.read_csv(\"airline_delay_causes.csv\")\n",
    "df.head()"
   ]
  },
  {
   "cell_type": "code",
   "execution_count": 35,
   "metadata": {
    "slideshow": {
     "slide_type": "skip"
    }
   },
   "outputs": [
    {
     "name": "stdout",
     "output_type": "stream",
     "text": [
      "<class 'pandas.core.frame.DataFrame'>\n",
      "RangeIndex: 30803 entries, 0 to 30802\n",
      "Data columns (total 22 columns):\n",
      " #   Column               Non-Null Count  Dtype  \n",
      "---  ------               --------------  -----  \n",
      " 0   year                 30803 non-null  int64  \n",
      " 1    month               30803 non-null  int64  \n",
      " 2   carrier              30803 non-null  object \n",
      " 3   carrier_name         30803 non-null  object \n",
      " 4   airport              30803 non-null  object \n",
      " 5   airport_name         30803 non-null  object \n",
      " 6   arr_flights          30746 non-null  float64\n",
      " 7   arr_del15            30576 non-null  float64\n",
      " 8   carrier_ct           30746 non-null  float64\n",
      " 9    weather_ct          30746 non-null  float64\n",
      " 10  nas_ct               30746 non-null  float64\n",
      " 11  security_ct          30746 non-null  float64\n",
      " 12  late_aircraft_ct     30746 non-null  float64\n",
      " 13  arr_cancelled        30746 non-null  float64\n",
      " 14  arr_diverted         30746 non-null  float64\n",
      " 15   arr_delay           30746 non-null  float64\n",
      " 16   carrier_delay       30746 non-null  float64\n",
      " 17  weather_delay        30746 non-null  float64\n",
      " 18  nas_delay            30746 non-null  float64\n",
      " 19  security_delay       30746 non-null  float64\n",
      " 20  late_aircraft_delay  30746 non-null  float64\n",
      " 21  Unnamed: 21          0 non-null      float64\n",
      "dtypes: float64(16), int64(2), object(4)\n",
      "memory usage: 5.2+ MB\n"
     ]
    }
   ],
   "source": [
    "df.info()"
   ]
  },
  {
   "cell_type": "code",
   "execution_count": 36,
   "metadata": {
    "slideshow": {
     "slide_type": "skip"
    }
   },
   "outputs": [
    {
     "data": {
      "text/plain": [
       "(30803, 22)"
      ]
     },
     "execution_count": 36,
     "metadata": {},
     "output_type": "execute_result"
    }
   ],
   "source": [
    "#shape of dataset\n",
    "df.shape"
   ]
  },
  {
   "cell_type": "code",
   "execution_count": 37,
   "metadata": {
    "slideshow": {
     "slide_type": "skip"
    }
   },
   "outputs": [
    {
     "data": {
      "text/plain": [
       "Index(['year', ' month', 'carrier', 'carrier_name', 'airport', 'airport_name',\n",
       "       'arr_flights', 'arr_del15', 'carrier_ct', ' weather_ct', 'nas_ct',\n",
       "       'security_ct', 'late_aircraft_ct', 'arr_cancelled', 'arr_diverted',\n",
       "       ' arr_delay', ' carrier_delay', 'weather_delay', 'nas_delay',\n",
       "       'security_delay', 'late_aircraft_delay', 'Unnamed: 21'],\n",
       "      dtype='object')"
      ]
     },
     "execution_count": 37,
     "metadata": {},
     "output_type": "execute_result"
    }
   ],
   "source": [
    "df.columns"
   ]
  },
  {
   "cell_type": "code",
   "execution_count": 38,
   "metadata": {
    "slideshow": {
     "slide_type": "skip"
    }
   },
   "outputs": [
    {
     "data": {
      "text/html": [
       "<div>\n",
       "<style scoped>\n",
       "    .dataframe tbody tr th:only-of-type {\n",
       "        vertical-align: middle;\n",
       "    }\n",
       "\n",
       "    .dataframe tbody tr th {\n",
       "        vertical-align: top;\n",
       "    }\n",
       "\n",
       "    .dataframe thead th {\n",
       "        text-align: right;\n",
       "    }\n",
       "</style>\n",
       "<table border=\"1\" class=\"dataframe\">\n",
       "  <thead>\n",
       "    <tr style=\"text-align: right;\">\n",
       "      <th></th>\n",
       "      <th>year</th>\n",
       "      <th>month</th>\n",
       "      <th>arr_flights</th>\n",
       "      <th>arr_del15</th>\n",
       "      <th>carrier_ct</th>\n",
       "      <th>weather_ct</th>\n",
       "      <th>nas_ct</th>\n",
       "      <th>security_ct</th>\n",
       "      <th>late_aircraft_ct</th>\n",
       "      <th>arr_cancelled</th>\n",
       "      <th>arr_diverted</th>\n",
       "      <th>arr_delay</th>\n",
       "      <th>carrier_delay</th>\n",
       "      <th>weather_delay</th>\n",
       "      <th>nas_delay</th>\n",
       "      <th>security_delay</th>\n",
       "      <th>late_aircraft_delay</th>\n",
       "      <th>Unnamed: 21</th>\n",
       "    </tr>\n",
       "  </thead>\n",
       "  <tbody>\n",
       "    <tr>\n",
       "      <th>count</th>\n",
       "      <td>30803.000000</td>\n",
       "      <td>30803.000000</td>\n",
       "      <td>30746.000000</td>\n",
       "      <td>30576.000000</td>\n",
       "      <td>30746.000000</td>\n",
       "      <td>30746.000000</td>\n",
       "      <td>30746.000000</td>\n",
       "      <td>30746.000000</td>\n",
       "      <td>30746.000000</td>\n",
       "      <td>30746.000000</td>\n",
       "      <td>30746.000000</td>\n",
       "      <td>30746.000000</td>\n",
       "      <td>30746.000000</td>\n",
       "      <td>30746.000000</td>\n",
       "      <td>30746.000000</td>\n",
       "      <td>30746.000000</td>\n",
       "      <td>30746.000000</td>\n",
       "      <td>0.0</td>\n",
       "    </tr>\n",
       "    <tr>\n",
       "      <th>mean</th>\n",
       "      <td>2019.320001</td>\n",
       "      <td>5.519430</td>\n",
       "      <td>324.257172</td>\n",
       "      <td>53.690967</td>\n",
       "      <td>15.357155</td>\n",
       "      <td>1.811644</td>\n",
       "      <td>17.051822</td>\n",
       "      <td>0.104382</td>\n",
       "      <td>19.069153</td>\n",
       "      <td>12.999382</td>\n",
       "      <td>0.744455</td>\n",
       "      <td>3646.811097</td>\n",
       "      <td>1161.601477</td>\n",
       "      <td>203.254602</td>\n",
       "      <td>868.559357</td>\n",
       "      <td>5.135725</td>\n",
       "      <td>1408.259936</td>\n",
       "      <td>NaN</td>\n",
       "    </tr>\n",
       "    <tr>\n",
       "      <th>std</th>\n",
       "      <td>0.466484</td>\n",
       "      <td>3.355131</td>\n",
       "      <td>932.072538</td>\n",
       "      <td>156.012905</td>\n",
       "      <td>39.427634</td>\n",
       "      <td>6.135674</td>\n",
       "      <td>59.267923</td>\n",
       "      <td>0.491912</td>\n",
       "      <td>59.403870</td>\n",
       "      <td>83.383059</td>\n",
       "      <td>3.389427</td>\n",
       "      <td>11673.296109</td>\n",
       "      <td>3496.684182</td>\n",
       "      <td>809.986527</td>\n",
       "      <td>3644.126540</td>\n",
       "      <td>35.569887</td>\n",
       "      <td>4599.812967</td>\n",
       "      <td>NaN</td>\n",
       "    </tr>\n",
       "    <tr>\n",
       "      <th>min</th>\n",
       "      <td>2019.000000</td>\n",
       "      <td>1.000000</td>\n",
       "      <td>1.000000</td>\n",
       "      <td>0.000000</td>\n",
       "      <td>0.000000</td>\n",
       "      <td>0.000000</td>\n",
       "      <td>0.000000</td>\n",
       "      <td>0.000000</td>\n",
       "      <td>0.000000</td>\n",
       "      <td>0.000000</td>\n",
       "      <td>0.000000</td>\n",
       "      <td>0.000000</td>\n",
       "      <td>0.000000</td>\n",
       "      <td>0.000000</td>\n",
       "      <td>0.000000</td>\n",
       "      <td>0.000000</td>\n",
       "      <td>0.000000</td>\n",
       "      <td>NaN</td>\n",
       "    </tr>\n",
       "    <tr>\n",
       "      <th>25%</th>\n",
       "      <td>2019.000000</td>\n",
       "      <td>3.000000</td>\n",
       "      <td>36.000000</td>\n",
       "      <td>4.000000</td>\n",
       "      <td>1.360000</td>\n",
       "      <td>0.000000</td>\n",
       "      <td>0.930000</td>\n",
       "      <td>0.000000</td>\n",
       "      <td>0.920000</td>\n",
       "      <td>0.000000</td>\n",
       "      <td>0.000000</td>\n",
       "      <td>216.250000</td>\n",
       "      <td>65.000000</td>\n",
       "      <td>0.000000</td>\n",
       "      <td>24.000000</td>\n",
       "      <td>0.000000</td>\n",
       "      <td>33.000000</td>\n",
       "      <td>NaN</td>\n",
       "    </tr>\n",
       "    <tr>\n",
       "      <th>50%</th>\n",
       "      <td>2019.000000</td>\n",
       "      <td>5.000000</td>\n",
       "      <td>87.000000</td>\n",
       "      <td>14.000000</td>\n",
       "      <td>4.570000</td>\n",
       "      <td>0.130000</td>\n",
       "      <td>3.130000</td>\n",
       "      <td>0.000000</td>\n",
       "      <td>4.000000</td>\n",
       "      <td>1.000000</td>\n",
       "      <td>0.000000</td>\n",
       "      <td>807.000000</td>\n",
       "      <td>275.000000</td>\n",
       "      <td>7.000000</td>\n",
       "      <td>117.000000</td>\n",
       "      <td>0.000000</td>\n",
       "      <td>256.000000</td>\n",
       "      <td>NaN</td>\n",
       "    </tr>\n",
       "    <tr>\n",
       "      <th>75%</th>\n",
       "      <td>2020.000000</td>\n",
       "      <td>8.000000</td>\n",
       "      <td>213.000000</td>\n",
       "      <td>36.000000</td>\n",
       "      <td>12.240000</td>\n",
       "      <td>1.480000</td>\n",
       "      <td>9.497500</td>\n",
       "      <td>0.000000</td>\n",
       "      <td>12.490000</td>\n",
       "      <td>5.000000</td>\n",
       "      <td>0.000000</td>\n",
       "      <td>2386.000000</td>\n",
       "      <td>868.000000</td>\n",
       "      <td>121.000000</td>\n",
       "      <td>394.000000</td>\n",
       "      <td>0.000000</td>\n",
       "      <td>914.000000</td>\n",
       "      <td>NaN</td>\n",
       "    </tr>\n",
       "    <tr>\n",
       "      <th>max</th>\n",
       "      <td>2020.000000</td>\n",
       "      <td>12.000000</td>\n",
       "      <td>21873.000000</td>\n",
       "      <td>3714.000000</td>\n",
       "      <td>966.330000</td>\n",
       "      <td>175.560000</td>\n",
       "      <td>1485.820000</td>\n",
       "      <td>16.800000</td>\n",
       "      <td>1429.550000</td>\n",
       "      <td>4951.000000</td>\n",
       "      <td>115.000000</td>\n",
       "      <td>329847.000000</td>\n",
       "      <td>97970.000000</td>\n",
       "      <td>23749.000000</td>\n",
       "      <td>97283.000000</td>\n",
       "      <td>3194.000000</td>\n",
       "      <td>125086.000000</td>\n",
       "      <td>NaN</td>\n",
       "    </tr>\n",
       "  </tbody>\n",
       "</table>\n",
       "</div>"
      ],
      "text/plain": [
       "               year         month   arr_flights     arr_del15    carrier_ct  \\\n",
       "count  30803.000000  30803.000000  30746.000000  30576.000000  30746.000000   \n",
       "mean    2019.320001      5.519430    324.257172     53.690967     15.357155   \n",
       "std        0.466484      3.355131    932.072538    156.012905     39.427634   \n",
       "min     2019.000000      1.000000      1.000000      0.000000      0.000000   \n",
       "25%     2019.000000      3.000000     36.000000      4.000000      1.360000   \n",
       "50%     2019.000000      5.000000     87.000000     14.000000      4.570000   \n",
       "75%     2020.000000      8.000000    213.000000     36.000000     12.240000   \n",
       "max     2020.000000     12.000000  21873.000000   3714.000000    966.330000   \n",
       "\n",
       "         weather_ct        nas_ct   security_ct  late_aircraft_ct  \\\n",
       "count  30746.000000  30746.000000  30746.000000      30746.000000   \n",
       "mean       1.811644     17.051822      0.104382         19.069153   \n",
       "std        6.135674     59.267923      0.491912         59.403870   \n",
       "min        0.000000      0.000000      0.000000          0.000000   \n",
       "25%        0.000000      0.930000      0.000000          0.920000   \n",
       "50%        0.130000      3.130000      0.000000          4.000000   \n",
       "75%        1.480000      9.497500      0.000000         12.490000   \n",
       "max      175.560000   1485.820000     16.800000       1429.550000   \n",
       "\n",
       "       arr_cancelled  arr_diverted      arr_delay   carrier_delay  \\\n",
       "count   30746.000000  30746.000000   30746.000000    30746.000000   \n",
       "mean       12.999382      0.744455    3646.811097     1161.601477   \n",
       "std        83.383059      3.389427   11673.296109     3496.684182   \n",
       "min         0.000000      0.000000       0.000000        0.000000   \n",
       "25%         0.000000      0.000000     216.250000       65.000000   \n",
       "50%         1.000000      0.000000     807.000000      275.000000   \n",
       "75%         5.000000      0.000000    2386.000000      868.000000   \n",
       "max      4951.000000    115.000000  329847.000000    97970.000000   \n",
       "\n",
       "       weather_delay     nas_delay  security_delay  late_aircraft_delay  \\\n",
       "count   30746.000000  30746.000000    30746.000000         30746.000000   \n",
       "mean      203.254602    868.559357        5.135725          1408.259936   \n",
       "std       809.986527   3644.126540       35.569887          4599.812967   \n",
       "min         0.000000      0.000000        0.000000             0.000000   \n",
       "25%         0.000000     24.000000        0.000000            33.000000   \n",
       "50%         7.000000    117.000000        0.000000           256.000000   \n",
       "75%       121.000000    394.000000        0.000000           914.000000   \n",
       "max     23749.000000  97283.000000     3194.000000        125086.000000   \n",
       "\n",
       "       Unnamed: 21  \n",
       "count          0.0  \n",
       "mean           NaN  \n",
       "std            NaN  \n",
       "min            NaN  \n",
       "25%            NaN  \n",
       "50%            NaN  \n",
       "75%            NaN  \n",
       "max            NaN  "
      ]
     },
     "execution_count": 38,
     "metadata": {},
     "output_type": "execute_result"
    }
   ],
   "source": [
    "df.describe()\n"
   ]
  },
  {
   "cell_type": "code",
   "execution_count": 39,
   "metadata": {
    "slideshow": {
     "slide_type": "skip"
    }
   },
   "outputs": [
    {
     "data": {
      "text/plain": [
       "0"
      ]
     },
     "execution_count": 39,
     "metadata": {},
     "output_type": "execute_result"
    }
   ],
   "source": [
    "df.duplicated().sum()"
   ]
  },
  {
   "cell_type": "code",
   "execution_count": 40,
   "metadata": {
    "slideshow": {
     "slide_type": "skip"
    }
   },
   "outputs": [],
   "source": [
    "#delete unnamed:21 columns \n",
    "del df['Unnamed: 21']"
   ]
  },
  {
   "cell_type": "code",
   "execution_count": 41,
   "metadata": {
    "slideshow": {
     "slide_type": "skip"
    }
   },
   "outputs": [
    {
     "name": "stdout",
     "output_type": "stream",
     "text": [
      "******Carrier*******\n",
      "['MQ' 'NK' 'OH' 'OO' 'UA' 'WN' 'YV' 'YX' '9E' 'AA' 'AS' 'B6' 'DL' 'EV'\n",
      " 'F9' 'G4' 'HA']\n",
      "*********************\n",
      "******Carrier*******\n",
      "['Envoy Air' 'Spirit Air Lines' 'PSA Airlines Inc.'\n",
      " 'SkyWest Airlines Inc.' 'United Air Lines Inc.' 'Southwest Airlines Co.'\n",
      " 'Mesa Airlines Inc.' 'Republic Airline' 'Endeavor Air Inc.'\n",
      " 'American Airlines Inc.' 'Alaska Airlines Inc.' 'JetBlue Airways'\n",
      " 'Delta Air Lines Inc.' 'ExpressJet Airlines Inc.'\n",
      " 'Frontier Airlines Inc.' 'Allegiant Air' 'Hawaiian Airlines Inc.'\n",
      " 'ExpressJet Airlines LLC']\n",
      "*********************\n",
      "******Airport*******\n",
      "['SAV' 'SDF' 'SGF' 'SHV' 'SJT' 'SPI' 'SPS' 'SRQ' 'STL' 'SUX' 'SWO' 'SYR'\n",
      " 'TLH' 'TOL' 'TUL' 'TVC' 'TXK' 'TYR' 'TYS' 'XNA' 'ACY' 'ATL' 'AVL' 'BDL'\n",
      " 'BOS' 'BQN' 'BWI' 'CAK' 'CLE' 'CMH' 'DEN' 'DFW' 'DTW' 'EWR' 'FLL' 'GSO'\n",
      " 'IAG' 'IAH' 'JAX' 'LAS' 'LAX' 'LBE' 'LGA' 'MCI' 'MCO' 'MSP' 'MSY' 'MYR'\n",
      " 'OAK' 'ORD' 'PBG' 'PBI' 'PDX' 'PHL' 'PHX' 'PIT' 'RIC' 'RSW' 'SAN' 'SEA'\n",
      " 'SJU' 'STT' 'TPA' 'ABE' 'AGS' 'ALB' 'ART' 'AVP' 'BGR' 'BHM' 'BNA' 'BTR'\n",
      " 'BTV' 'BUF' 'CAE' 'CHA' 'CHO' 'CHS' 'CID' 'CLT' 'CRW' 'CVG' 'DAB' 'DAY'\n",
      " 'DCA' 'DSM' 'EVV' 'EWN' 'FAY' 'GNV' 'GPT' 'GRR' 'GSP' 'HPN' 'HSV' 'HVN'\n",
      " 'IAD' 'ILM' 'IND' 'ITH' 'JAN' 'JFK' 'LAN' 'LEX' 'LIT' 'LYH' 'MDT' 'MEM'\n",
      " 'MGM' 'MHT' 'MKE' 'MLB' 'MOB' 'MSN' 'OAJ' 'OKC' 'OMA' 'ORF' 'PHF' 'PIA'\n",
      " 'PNS' 'PVD' 'PWM' 'RDU' 'ROC' 'SAT' 'TRI' 'VPS' 'ABQ' 'ABR' 'ABY' 'ACV'\n",
      " 'APN' 'ASE' 'ATW' 'AUS' 'AZO' 'BFF' 'BFL' 'BGM' 'BIL' 'BIS' 'BJI' 'BMI'\n",
      " 'BOI' 'BQK' 'BRD' 'BRO' 'BTM' 'BUR' 'BZN' 'CDC' 'CGI' 'CIU' 'CKB' 'CLL'\n",
      " 'CMX' 'CNY' 'COD' 'COS' 'COU' 'CPR' 'CRP' 'CYS' 'DAL' 'DHN' 'DLH' 'DRO'\n",
      " 'DVL' 'EAR' 'EAU' 'ECP' 'EGE' 'EKO' 'ELP' 'ERI' 'ESC' 'EUG' 'FAR' 'FAT'\n",
      " 'FCA' 'FLG' 'FNT' 'FSD' 'FWA' 'GCC' 'GEG' 'GFK' 'GJT' 'GRB' 'GTF' 'HDN'\n",
      " 'HIB' 'HLN' 'HOU' 'HYS' 'ICT' 'IDA' 'IMT' 'INL' 'ISN' 'JAC' 'JLN' 'JMS'\n",
      " 'LAR' 'LAW' 'LBF' 'LBL' 'LFT' 'LGB' 'LNK' 'LRD' 'LSE' 'LWB' 'LWS' 'MAF'\n",
      " 'MBS' 'MDW' 'MEI' 'MFE' 'MFR' 'MHK' 'MKG' 'MLI' 'MLU' 'MMH' 'MOT' 'MQT'\n",
      " 'MRY' 'MSO' 'MTJ' 'ONT' 'OTH' 'PAH' 'PIB' 'PIH' 'PLN' 'PRC' 'PSC' 'PSP'\n",
      " 'PUB' 'RAP' 'RDD' 'RDM' 'RHI' 'RKS' 'RNO' 'ROA' 'ROW' 'RST' 'SAF' 'SBA'\n",
      " 'SBN' 'SBP' 'SCE' 'SFO' 'SGU' 'SHD' 'SJC' 'SLC' 'SLN' 'SMF' 'SNA' 'STS'\n",
      " 'SUN' 'SWF' 'TUS' 'TWF' 'UIN' 'VEL' 'VLD' 'YUM' 'ANC' 'GUC' 'GUM' 'HNL'\n",
      " 'ITO' 'KOA' 'LIH' 'MIA' 'OGG' 'SPN' 'AMA' 'HRL' 'ISP' 'LBB' 'FSM' 'EYW'\n",
      " 'HHH' 'AEX' 'CSG' 'CWA' 'GTR' 'STX' 'ADK' 'ADQ' 'BET' 'BLI' 'BRW' 'CDV'\n",
      " 'FAI' 'JNU' 'KTN' 'OME' 'OTZ' 'PSG' 'SCC' 'SIT' 'WRG' 'YAK' 'ORH' 'PSE'\n",
      " 'GRK' 'HOB' 'LCH' 'PSM' 'TTN' 'AZA' 'BLV' 'ELM' 'GRI' 'HGR' 'HTS' 'LCK'\n",
      " 'OGD' 'OGS' 'OWB' 'PGD' 'PIE' 'PVU' 'RFD' 'SCK' 'SFB' 'SMX' 'STC' 'USA'\n",
      " 'PPG' 'ABI' 'ACT' 'ALO' 'BPT' 'CMI' 'DBQ' 'DRT' 'GCK' 'GGG' 'PAE' 'BKG'\n",
      " 'ATY' 'PIR' 'BFM' 'WYS' 'ACK' 'MVY' 'AKN' 'DLG' 'GST' 'HYA' 'PGV' 'XWA'\n",
      " 'RIW' 'SHR' 'DDC' 'DEC' 'DIK' 'CDB']\n",
      "*********************\n",
      "*********************\n",
      "******Airport Name*******\n",
      "['Savannah, GA: Savannah/Hilton Head International'\n",
      " 'Louisville, KY: Louisville Muhammad Ali International'\n",
      " 'Springfield, MO: Springfield-Branson National'\n",
      " 'Shreveport, LA: Shreveport Regional'\n",
      " 'San Angelo, TX: San Angelo Regional/Mathis Field'\n",
      " 'Springfield, IL: Abraham Lincoln Capital'\n",
      " 'Wichita Falls, TX: Sheppard AFB/Wichita Falls Municipal'\n",
      " 'Sarasota/Bradenton, FL: Sarasota/Bradenton International'\n",
      " 'St. Louis, MO: St Louis Lambert International'\n",
      " 'Sioux City, IA: Sioux Gateway Brig Gen Bud Day Field'\n",
      " 'Stillwater, OK: Stillwater Regional'\n",
      " 'Syracuse, NY: Syracuse Hancock International'\n",
      " 'Tallahassee, FL: Tallahassee International' 'Toledo, OH: Toledo Express'\n",
      " 'Tulsa, OK: Tulsa International' 'Traverse City, MI: Cherry Capital'\n",
      " 'Texarkana, AR: Texarkana Regional-Webb Field'\n",
      " 'Tyler, TX: Tyler Pounds Regional' 'Knoxville, TN: McGhee Tyson'\n",
      " 'Fayetteville, AR: Northwest Arkansas Regional'\n",
      " 'Atlantic City, NJ: Atlantic City International'\n",
      " 'Atlanta, GA: Hartsfield-Jackson Atlanta International'\n",
      " 'Asheville, NC: Asheville Regional' 'Hartford, CT: Bradley International'\n",
      " 'Boston, MA: Logan International' 'Aguadilla, PR: Rafael Hernandez'\n",
      " 'Baltimore, MD: Baltimore/Washington International Thurgood Marshall'\n",
      " 'Akron, OH: Akron-Canton Regional'\n",
      " 'Cleveland, OH: Cleveland-Hopkins International'\n",
      " 'Columbus, OH: John Glenn Columbus International'\n",
      " 'Denver, CO: Denver International'\n",
      " 'Dallas/Fort Worth, TX: Dallas/Fort Worth International'\n",
      " 'Detroit, MI: Detroit Metro Wayne County'\n",
      " 'Newark, NJ: Newark Liberty International'\n",
      " 'Fort Lauderdale, FL: Fort Lauderdale-Hollywood International'\n",
      " 'Greensboro/High Point, NC: Piedmont Triad International'\n",
      " 'Niagara Falls, NY: Niagara Falls International'\n",
      " 'Houston, TX: George Bush Intercontinental/Houston'\n",
      " 'Jacksonville, FL: Jacksonville International'\n",
      " 'Las Vegas, NV: McCarran International'\n",
      " 'Los Angeles, CA: Los Angeles International'\n",
      " 'Latrobe, PA: Arnold Palmer Regional' 'New York, NY: LaGuardia'\n",
      " 'Kansas City, MO: Kansas City International'\n",
      " 'Orlando, FL: Orlando International'\n",
      " 'Minneapolis, MN: Minneapolis-St Paul International'\n",
      " 'New Orleans, LA: Louis Armstrong New Orleans International'\n",
      " 'Myrtle Beach, SC: Myrtle Beach International'\n",
      " 'Oakland, CA: Metropolitan Oakland International'\n",
      " \"Chicago, IL: Chicago O'Hare International\"\n",
      " 'Plattsburgh, NY: Plattsburgh International'\n",
      " 'West Palm Beach/Palm Beach, FL: Palm Beach International'\n",
      " 'Portland, OR: Portland International'\n",
      " 'Philadelphia, PA: Philadelphia International'\n",
      " 'Phoenix, AZ: Phoenix Sky Harbor International'\n",
      " 'Pittsburgh, PA: Pittsburgh International'\n",
      " 'Richmond, VA: Richmond International'\n",
      " 'Fort Myers, FL: Southwest Florida International'\n",
      " 'San Diego, CA: San Diego International'\n",
      " 'Seattle, WA: Seattle/Tacoma International'\n",
      " 'San Juan, PR: Luis Munoz Marin International'\n",
      " 'Charlotte Amalie, VI: Cyril E King' 'Tampa, FL: Tampa International'\n",
      " 'Allentown/Bethlehem/Easton, PA: Lehigh Valley International'\n",
      " 'Augusta, GA: Augusta Regional at Bush Field'\n",
      " 'Albany, NY: Albany International'\n",
      " 'Watertown, NY: Watertown International'\n",
      " 'Scranton/Wilkes-Barre, PA: Wilkes Barre Scranton International'\n",
      " 'Bangor, ME: Bangor International'\n",
      " 'Birmingham, AL: Birmingham-Shuttlesworth International'\n",
      " 'Nashville, TN: Nashville International'\n",
      " 'Baton Rouge, LA: Baton Rouge Metropolitan/Ryan Field'\n",
      " 'Burlington, VT: Burlington International'\n",
      " 'Buffalo, NY: Buffalo Niagara International'\n",
      " 'Columbia, SC: Columbia Metropolitan' 'Chattanooga, TN: Lovell Field'\n",
      " 'Charlottesville, VA: Charlottesville Albemarle'\n",
      " 'Charleston, SC: Charleston AFB/International'\n",
      " 'Cedar Rapids/Iowa City, IA: The Eastern Iowa'\n",
      " 'Charlotte, NC: Charlotte Douglas International'\n",
      " 'Charleston/Dunbar, WV: Yeager'\n",
      " 'Cincinnati, OH: Cincinnati/Northern Kentucky International'\n",
      " 'Daytona Beach, FL: Daytona Beach International'\n",
      " 'Dayton, OH: James M Cox/Dayton International'\n",
      " 'Washington, DC: Ronald Reagan Washington National'\n",
      " 'Des Moines, IA: Des Moines International'\n",
      " 'Evansville, IN: Evansville Regional'\n",
      " 'New Bern/Morehead/Beaufort, NC: Coastal Carolina Regional'\n",
      " 'Fayetteville, NC: Fayetteville Regional/Grannis Field'\n",
      " 'Gainesville, FL: Gainesville Regional'\n",
      " 'Gulfport/Biloxi, MS: Gulfport-Biloxi International'\n",
      " 'Grand Rapids, MI: Gerald R. Ford International'\n",
      " 'Greer, SC: Greenville-Spartanburg International'\n",
      " 'White Plains, NY: Westchester County'\n",
      " 'Huntsville, AL: Huntsville International-Carl T Jones Field'\n",
      " 'New Haven, CT: Tweed New Haven'\n",
      " 'Washington, DC: Washington Dulles International'\n",
      " 'Wilmington, NC: Wilmington International'\n",
      " 'Indianapolis, IN: Indianapolis International'\n",
      " 'Ithaca/Cortland, NY: Ithaca Tompkins Regional'\n",
      " 'Jackson/Vicksburg, MS: Jackson Medgar Wiley Evers International'\n",
      " 'New York, NY: John F. Kennedy International'\n",
      " 'Lansing, MI: Capital Region International' 'Lexington, KY: Blue Grass'\n",
      " 'Little Rock, AR: Bill and Hillary Clinton Nat Adams Field'\n",
      " 'Lynchburg, VA: Lynchburg Regional/Preston Glenn Field'\n",
      " 'Harrisburg, PA: Harrisburg International'\n",
      " 'Memphis, TN: Memphis International'\n",
      " 'Montgomery, AL: Montgomery Regional'\n",
      " 'Manchester, NH: Manchester-Boston Regional'\n",
      " 'Milwaukee, WI: General Mitchell International'\n",
      " 'Melbourne, FL: Melbourne International' 'Mobile, AL: Mobile Regional'\n",
      " 'Madison, WI: Dane County Regional-Truax Field'\n",
      " 'Jacksonville/Camp Lejeune, NC: Albert J Ellis'\n",
      " 'Oklahoma City, OK: Will Rogers World' 'Omaha, NE: Eppley Airfield'\n",
      " 'Norfolk, VA: Norfolk International'\n",
      " 'Newport News/Williamsburg, VA: Newport News/Williamsburg International'\n",
      " 'Peoria, IL: General Downing - Peoria International'\n",
      " 'Pensacola, FL: Pensacola International'\n",
      " 'Providence, RI: Theodore Francis Green State'\n",
      " 'Portland, ME: Portland International Jetport'\n",
      " 'Raleigh/Durham, NC: Raleigh-Durham International'\n",
      " 'Rochester, NY: Greater Rochester International'\n",
      " 'San Antonio, TX: San Antonio International'\n",
      " 'Bristol/Johnson City/Kingsport, TN: Tri Cities'\n",
      " 'Valparaiso, FL: Eglin AFB Destin Fort Walton Beach'\n",
      " 'Albuquerque, NM: Albuquerque International Sunport'\n",
      " 'Aberdeen, SD: Aberdeen Regional'\n",
      " 'Albany, GA: Southwest Georgia Regional'\n",
      " 'Arcata/Eureka, CA: California Redwood Coast Humboldt County'\n",
      " 'Alpena, MI: Alpena County Regional'\n",
      " 'Aspen, CO: Aspen Pitkin County Sardy Field'\n",
      " 'Appleton, WI: Appleton International'\n",
      " 'Austin, TX: Austin - Bergstrom International'\n",
      " 'Kalamazoo, MI: Kalamazoo/Battle Creek International'\n",
      " 'Scottsbluff, NE: Western Neb. Regional/William B. Heilig Field'\n",
      " 'Bakersfield, CA: Meadows Field'\n",
      " 'Binghamton, NY: Greater Binghamton/Edwin A. Link Field'\n",
      " 'Billings, MT: Billings Logan International'\n",
      " 'Bismarck/Mandan, ND: Bismarck Municipal' 'Bemidji, MN: Bemidji Regional'\n",
      " 'Bloomington/Normal, IL: Central Il Regional Airport at Bloomington'\n",
      " 'Boise, ID: Boise Air Terminal' 'Brunswick, GA: Brunswick Golden Isles'\n",
      " 'Brainerd, MN: Brainerd Lakes Regional'\n",
      " 'Brownsville, TX: Brownsville South Padre Island International'\n",
      " 'Butte, MT: Bert Mooney' 'Burbank, CA: Bob Hope'\n",
      " 'Bozeman, MT: Bozeman Yellowstone International'\n",
      " 'Cedar City, UT: Cedar City Regional'\n",
      " 'Cape Girardeau, MO: Cape Girardeau Regional'\n",
      " 'Sault Ste. Marie, MI: Chippewa County International'\n",
      " 'Clarksburg/Fairmont, WV: North Central West Virginia'\n",
      " 'College Station/Bryan, TX: Easterwood Field'\n",
      " 'Hancock/Houghton, MI: Houghton County Memorial'\n",
      " 'Moab, UT: Canyonlands Field' 'Cody, WY: Yellowstone Regional'\n",
      " 'Colorado Springs, CO: City of Colorado Springs Municipal'\n",
      " 'Columbia, MO: Columbia Regional'\n",
      " 'Casper, WY: Casper/Natrona County International'\n",
      " 'Corpus Christi, TX: Corpus Christi International'\n",
      " 'Cheyenne, WY: Cheyenne Regional/Jerry Olson Field'\n",
      " 'Dallas, TX: Dallas Love Field' 'Dothan, AL: Dothan Regional'\n",
      " 'Duluth, MN: Duluth International' 'Durango, CO: Durango La Plata County'\n",
      " 'Devils Lake, ND: Devils Lake Regional' 'Kearney, NE: Kearney Regional'\n",
      " 'Eau Claire, WI: Chippewa Valley Regional'\n",
      " 'Panama City, FL: Northwest Florida Beaches International'\n",
      " 'Eagle, CO: Eagle County Regional' 'Elko, NV: Elko Regional'\n",
      " 'El Paso, TX: El Paso International'\n",
      " 'Erie, PA: Erie International/Tom Ridge Field'\n",
      " 'Escanaba, MI: Delta County' 'Eugene, OR: Mahlon Sweet Field'\n",
      " 'Fargo, ND: Hector International'\n",
      " 'Fresno, CA: Fresno Yosemite International'\n",
      " 'Kalispell, MT: Glacier Park International'\n",
      " 'Flagstaff, AZ: Flagstaff Pulliam' 'Flint, MI: Bishop International'\n",
      " 'Sioux Falls, SD: Joe Foss Field'\n",
      " 'Fort Wayne, IN: Fort Wayne International'\n",
      " 'Gillette, WY: Gillette Campbell County'\n",
      " 'Spokane, WA: Spokane International'\n",
      " 'Grand Forks, ND: Grand Forks International'\n",
      " 'Grand Junction, CO: Grand Junction Regional'\n",
      " 'Green Bay, WI: Green Bay Austin Straubel International'\n",
      " 'Great Falls, MT: Great Falls International' 'Hayden, CO: Yampa Valley'\n",
      " 'Hibbing, MN: Range Regional' 'Helena, MT: Helena Regional'\n",
      " 'Houston, TX: William P Hobby' 'Hays, KS: Hays Regional'\n",
      " 'Wichita, KS: Wichita Dwight D Eisenhower National'\n",
      " 'Idaho Falls, ID: Idaho Falls Regional' 'Iron Mountain/Kingsfd, MI: Ford'\n",
      " 'International Falls, MN: Falls International Einarson Field'\n",
      " 'Williston, ND: Sloulin Field International' 'Jackson, WY: Jackson Hole'\n",
      " 'Joplin, MO: Joplin Regional' 'Jamestown, ND: Jamestown Regional'\n",
      " 'Laramie, WY: Laramie Regional'\n",
      " 'Lawton/Fort Sill, OK: Lawton-Fort Sill Regional'\n",
      " 'North Platte, NE: North Platte Regional Airport Lee Bird Field'\n",
      " 'Liberal, KS: Liberal Mid-America Regional'\n",
      " 'Lafayette, LA: Lafayette Regional Paul Fournet Field'\n",
      " 'Long Beach, CA: Long Beach Airport' 'Lincoln, NE: Lincoln Airport'\n",
      " 'Laredo, TX: Laredo International' 'La Crosse, WI: La Crosse Regional'\n",
      " 'Lewisburg, WV: Greenbrier Valley'\n",
      " 'Lewiston, ID: Lewiston Nez Perce County'\n",
      " 'Midland/Odessa, TX: Midland International Air and Space Port'\n",
      " 'Saginaw/Bay City/Midland, MI: MBS International'\n",
      " 'Chicago, IL: Chicago Midway International' 'Meridian, MS: Key Field'\n",
      " 'Mission/McAllen/Edinburg, TX: McAllen Miller International'\n",
      " 'Medford, OR: Rogue Valley International - Medford'\n",
      " 'Manhattan/Ft. Riley, KS: Manhattan Regional'\n",
      " 'Muskegon, MI: Muskegon County' 'Moline, IL: Quad City International'\n",
      " 'Monroe, LA: Monroe Regional' 'Mammoth Lakes, CA: Mammoth Lakes Airport'\n",
      " 'Minot, ND: Minot International' 'Marquette, MI: Sawyer International'\n",
      " 'Monterey, CA: Monterey Regional' 'Missoula, MT: Missoula International'\n",
      " 'Montrose/Delta, CO: Montrose Regional'\n",
      " 'Ontario, CA: Ontario International'\n",
      " 'North Bend/Coos Bay, OR: Southwest Oregon Regional'\n",
      " 'Paducah, KY: Barkley Regional'\n",
      " 'Hattiesburg/Laurel, MS: Hattiesburg-Laurel Regional'\n",
      " 'Pocatello, ID: Pocatello Regional'\n",
      " 'Pellston, MI: Pellston Regional Airport of Emmet County'\n",
      " 'Prescott, AZ: Prescott Regional Ernest A Love Field'\n",
      " 'Pasco/Kennewick/Richland, WA: Tri Cities'\n",
      " 'Palm Springs, CA: Palm Springs International'\n",
      " 'Pueblo, CO: Pueblo Memorial' 'Rapid City, SD: Rapid City Regional'\n",
      " 'Redding, CA: Redding Municipal' 'Bend/Redmond, OR: Roberts Field'\n",
      " 'Rhinelander, WI: Rhinelander/Oneida County'\n",
      " 'Rock Springs, WY: Southwest Wyoming Regional'\n",
      " 'Reno, NV: Reno/Tahoe International'\n",
      " 'Roanoke, VA: Roanoke Blacksburg Regional Woodrum Field'\n",
      " 'Roswell, NM: Roswell International Air Center'\n",
      " 'Rochester, MN: Rochester International'\n",
      " 'Santa Fe, NM: Santa Fe Municipal'\n",
      " 'Santa Barbara, CA: Santa Barbara Municipal'\n",
      " 'South Bend, IN: South Bend International'\n",
      " 'San Luis Obispo, CA: San Luis County Regional'\n",
      " 'State College, PA: University Park'\n",
      " 'San Francisco, CA: San Francisco International'\n",
      " 'St. George, UT: St George Regional'\n",
      " 'Staunton, VA: Shenandoah Valley Regional'\n",
      " 'San Jose, CA: Norman Y. Mineta San Jose International'\n",
      " 'Salt Lake City, UT: Salt Lake City International'\n",
      " 'Salina, KS: Salina Regional' 'Sacramento, CA: Sacramento International'\n",
      " 'Santa Ana, CA: John Wayne Airport-Orange County'\n",
      " 'Santa Rosa, CA: Charles M. Schulz - Sonoma County'\n",
      " 'Sun Valley/Hailey/Ketchum, ID: Friedman Memorial'\n",
      " 'Newburgh/Poughkeepsie, NY: New York Stewart International'\n",
      " 'Tucson, AZ: Tucson International'\n",
      " 'Twin Falls, ID: Joslin Field - Magic Valley Regional'\n",
      " 'Quincy, IL: Quincy Regional-Baldwin Field' 'Vernal, UT: Vernal Regional'\n",
      " 'Valdosta, GA: Valdosta Regional'\n",
      " 'Yuma, AZ: Yuma MCAS/Yuma International'\n",
      " 'Anchorage, AK: Ted Stevens Anchorage International'\n",
      " 'Gunnison, CO: Gunnison-Crested Butte Regional'\n",
      " 'Guam, TT: Guam International'\n",
      " 'Honolulu, HI: Daniel K Inouye International'\n",
      " 'Hilo, HI: Hilo International'\n",
      " 'Kona, HI: Ellison Onizuka Kona International at Keahole'\n",
      " 'Lihue, HI: Lihue Airport' 'Miami, FL: Miami International'\n",
      " 'Kahului, HI: Kahului Airport'\n",
      " 'Saipan, TT: Francisco C. Ada Saipan International'\n",
      " 'Amarillo, TX: Rick Husband Amarillo International'\n",
      " 'Harlingen/San Benito, TX: Valley International'\n",
      " 'Islip, NY: Long Island MacArthur'\n",
      " 'Lubbock, TX: Lubbock Preston Smith International'\n",
      " 'Fort Smith, AR: Fort Smith Regional'\n",
      " 'Key West, FL: Key West International'\n",
      " 'Hilton Head, SC: Hilton Head Airport'\n",
      " 'Alexandria, LA: Alexandria International'\n",
      " 'Columbus, GA: Columbus Airport' 'Mosinee, WI: Central Wisconsin'\n",
      " 'Columbus, MS: Golden Triangle Regional'\n",
      " 'Christiansted, VI: Henry E. Rohlsen' 'Adak Island, AK: Adak'\n",
      " 'Kodiak, AK: Kodiak Airport' 'Bethel, AK: Bethel Airport'\n",
      " 'Bellingham, WA: Bellingham International'\n",
      " 'Barrow, AK: Wiley Post/Will Rogers Memorial'\n",
      " 'Cordova, AK: Merle K Mudhole Smith'\n",
      " 'Fairbanks, AK: Fairbanks International'\n",
      " 'Juneau, AK: Juneau International'\n",
      " 'Ketchikan, AK: Ketchikan International' 'Nome, AK: Nome Airport'\n",
      " 'Kotzebue, AK: Ralph Wien Memorial'\n",
      " 'Petersburg, AK: Petersburg James A Johnson'\n",
      " 'Deadhorse, AK: Deadhorse Airport' 'Sitka, AK: Sitka Rocky Gutierrez'\n",
      " 'Wrangell, AK: Wrangell Airport' 'Yakutat, AK: Yakutat Airport'\n",
      " 'Worcester, MA: Worcester Regional' 'Ponce, PR: Mercedita'\n",
      " 'Killeen, TX: Robert Gray AAF' 'Hobbs, NM: Lea County Regional'\n",
      " 'Lake Charles, LA: Lake Charles Regional'\n",
      " 'Portsmouth, NH: Portsmouth International at Pease'\n",
      " 'Trenton, NJ: Trenton Mercer' 'Phoenix, AZ: Phoenix - Mesa Gateway'\n",
      " 'Belleville, IL: Scott AFB/MidAmerica'\n",
      " 'Elmira/Corning, NY: Elmira/Corning Regional'\n",
      " 'Grand Island, NE: Central Nebraska Regional'\n",
      " 'Hagerstown, MD: Hagerstown Regional-Richard A. Henson Field'\n",
      " 'Ashland, WV: Tri-State/Milton J. Ferguson Field'\n",
      " 'Columbus, OH: Rickenbacker International' 'Ogden, UT: Ogden-Hinckley'\n",
      " 'Ogdensburg, NY: Ogdensburg International'\n",
      " 'Owensboro, KY: Owensboro Daviess County Regional'\n",
      " 'Punta Gorda, FL: Punta Gorda Airport'\n",
      " 'St. Petersburg, FL: St Pete Clearwater International'\n",
      " 'Provo, UT: Provo Municipal'\n",
      " 'Rockford, IL: Chicago/Rockford International'\n",
      " 'Stockton, CA: Stockton Metropolitan'\n",
      " 'Sanford, FL: Orlando Sanford International'\n",
      " 'Santa Maria, CA: Santa Maria Public/Capt. G. Allan Hancock Field'\n",
      " 'St. Cloud, MN: St. Cloud Regional'\n",
      " 'Concord, NC: Concord Padgett Regional'\n",
      " 'Pago Pago, TT: Pago Pago International' 'Abilene, TX: Abilene Regional'\n",
      " 'Waco, TX: Waco Regional' 'Waterloo, IA: Waterloo Regional'\n",
      " 'Beaumont/Port Arthur, TX: Jack Brooks Regional'\n",
      " 'Champaign/Urbana, IL: University of Illinois/Willard'\n",
      " 'Dubuque, IA: Dubuque Regional' 'Del Rio, TX: Del Rio International'\n",
      " 'Garden City, KS: Garden City Regional'\n",
      " 'Longview, TX: East Texas Regional' 'Everett, WA: Snohomish County'\n",
      " 'Branson, MO: Branson Airport' 'Watertown, SD: Watertown Regional'\n",
      " 'Pierre, SD: Pierre Regional' 'Mobile, AL: Mobile Downtown'\n",
      " 'West Yellowstone, MT: Yellowstone' 'Nantucket, MA: Nantucket Memorial'\n",
      " \"Martha's Vineyard, MA: Martha's Vineyard Airport\"\n",
      " 'King Salmon, AK: King Salmon Airport'\n",
      " 'Dillingham, AK: Dillingham Airport' 'Gustavus, AK: Gustavus Airport'\n",
      " 'Hyannis, MA: Barnstable Municipal-Boardman/Polando Field'\n",
      " 'Greenville, NC: Pitt Greenville'\n",
      " 'Williston, ND: Williston Basin International'\n",
      " 'Riverton/Lander, WY: Riverton Regional' 'Sheridan, WY: Sheridan County'\n",
      " 'Dodge City, KS: Dodge City Regional' 'Decatur, IL: Decatur Airport'\n",
      " 'Dickinson, ND: Dickinson - Theodore Roosevelt Regional'\n",
      " 'Cold Bay, AK: Cold Bay Airport']\n",
      "*********************\n",
      "*********************\n"
     ]
    }
   ],
   "source": [
    "#Get unique values \n",
    "\n",
    "print(\"******Carrier*******\")\n",
    "print(df['carrier'].unique())\n",
    "print(\"*********************\")\n",
    "print(\"******Carrier*******\")\n",
    "print(df['carrier_name'].unique())\n",
    "print(\"*********************\")\n",
    "print(\"******Airport*******\")\n",
    "print(df['airport'].unique())\n",
    "print(\"*********************\")\n",
    "print(\"*********************\")\n",
    "print(\"******Airport Name*******\")\n",
    "print(df['airport_name'].unique())\n",
    "print(\"*********************\")\n",
    "print(\"*********************\")"
   ]
  },
  {
   "cell_type": "code",
   "execution_count": 42,
   "metadata": {
    "slideshow": {
     "slide_type": "skip"
    }
   },
   "outputs": [
    {
     "data": {
      "text/plain": [
       "year                     0\n",
       " month                   0\n",
       "carrier                  0\n",
       "carrier_name             0\n",
       "airport                  0\n",
       "airport_name             0\n",
       "arr_flights             57\n",
       "arr_del15              227\n",
       "carrier_ct              57\n",
       " weather_ct             57\n",
       "nas_ct                  57\n",
       "security_ct             57\n",
       "late_aircraft_ct        57\n",
       "arr_cancelled           57\n",
       "arr_diverted            57\n",
       " arr_delay              57\n",
       " carrier_delay          57\n",
       "weather_delay           57\n",
       "nas_delay               57\n",
       "security_delay          57\n",
       "late_aircraft_delay     57\n",
       "dtype: int64"
      ]
     },
     "execution_count": 42,
     "metadata": {},
     "output_type": "execute_result"
    }
   ],
   "source": [
    "# get number of nulls in dataset\n",
    "df.isnull().sum()"
   ]
  },
  {
   "cell_type": "code",
   "execution_count": 43,
   "metadata": {
    "slideshow": {
     "slide_type": "skip"
    }
   },
   "outputs": [],
   "source": [
    "#Drop nulls\n",
    "df.dropna(inplace=True)"
   ]
  },
  {
   "cell_type": "code",
   "execution_count": 44,
   "metadata": {
    "slideshow": {
     "slide_type": "skip"
    }
   },
   "outputs": [
    {
     "data": {
      "text/plain": [
       "year                   0\n",
       " month                 0\n",
       "carrier                0\n",
       "carrier_name           0\n",
       "airport                0\n",
       "airport_name           0\n",
       "arr_flights            0\n",
       "arr_del15              0\n",
       "carrier_ct             0\n",
       " weather_ct            0\n",
       "nas_ct                 0\n",
       "security_ct            0\n",
       "late_aircraft_ct       0\n",
       "arr_cancelled          0\n",
       "arr_diverted           0\n",
       " arr_delay             0\n",
       " carrier_delay         0\n",
       "weather_delay          0\n",
       "nas_delay              0\n",
       "security_delay         0\n",
       "late_aircraft_delay    0\n",
       "dtype: int64"
      ]
     },
     "execution_count": 44,
     "metadata": {},
     "output_type": "execute_result"
    }
   ],
   "source": [
    "# get number of nulls in dataset\n",
    "df.isnull().sum()"
   ]
  },
  {
   "cell_type": "markdown",
   "metadata": {
    "slideshow": {
     "slide_type": "skip"
    }
   },
   "source": [
    "### The structure of dataset\n",
    " 30803 rows and 22 columns \n",
    "###  The main feature(s) of interest in dataset\n",
    "  arr_flights , weather_ct,nas_ct,security_ct,arr_flights\n",
    "  \n",
    "### The features in the dataset that  help to support investigation into the features of interest\n",
    "carrier_name,airport_name,year\n"
   ]
  },
  {
   "cell_type": "markdown",
   "metadata": {
    "slideshow": {
     "slide_type": "skip"
    }
   },
   "source": [
    "## Change some columns types from float to int "
   ]
  },
  {
   "cell_type": "code",
   "execution_count": 45,
   "metadata": {
    "slideshow": {
     "slide_type": "skip"
    }
   },
   "outputs": [],
   "source": [
    "#Change some columns types to int \n",
    "df['late_aircraft_ct'] = df['late_aircraft_ct'].astype(np.int64)\n",
    "df['carrier_ct'] = df['carrier_ct'].astype(np.int64)\n",
    "df['weather_delay'] = df['weather_delay'].astype(np.int64)\n",
    "df['nas_delay'] = df['nas_delay'].astype(np.int64)\n",
    "df['late_aircraft_delay'] = df['late_aircraft_delay'].astype(np.int64)\n",
    "df['arr_del15'] = df['arr_del15'].astype(np.int64)\n",
    "df['late_aircraft_delay'] = df['nas_delay'].astype(np.int64)\n",
    "df['arr_cancelled'] = df['arr_cancelled'].astype(np.int64)\n",
    "df[' weather_ct'] = df[' weather_ct'].astype(np.int64)\n",
    "df['nas_ct'] = df['nas_ct'].astype(np.int64)\n",
    "df['arr_flights'] = df['arr_flights'].astype(np.int64)\n",
    "df['arr_diverted'] = df['arr_diverted'].astype(np.int64)\n",
    "df['late_aircraft_delay'] = df['late_aircraft_delay'].astype(np.int64)\n",
    "df['security_ct'] = df['security_ct'].astype(np.int64)\n",
    "df['security_delay'] = df['security_delay'].astype(np.int64)\n",
    "df[' carrier_delay'] = df[' carrier_delay'].astype(np.int64)\n",
    "df[' arr_delay'] = df[' arr_delay'].astype(np.int64)\n",
    "\n"
   ]
  },
  {
   "cell_type": "code",
   "execution_count": 46,
   "metadata": {
    "slideshow": {
     "slide_type": "skip"
    }
   },
   "outputs": [
    {
     "name": "stdout",
     "output_type": "stream",
     "text": [
      "<class 'pandas.core.frame.DataFrame'>\n",
      "Int64Index: 30576 entries, 0 to 30802\n",
      "Data columns (total 21 columns):\n",
      " #   Column               Non-Null Count  Dtype \n",
      "---  ------               --------------  ----- \n",
      " 0   year                 30576 non-null  int64 \n",
      " 1    month               30576 non-null  int64 \n",
      " 2   carrier              30576 non-null  object\n",
      " 3   carrier_name         30576 non-null  object\n",
      " 4   airport              30576 non-null  object\n",
      " 5   airport_name         30576 non-null  object\n",
      " 6   arr_flights          30576 non-null  int64 \n",
      " 7   arr_del15            30576 non-null  int64 \n",
      " 8   carrier_ct           30576 non-null  int64 \n",
      " 9    weather_ct          30576 non-null  int64 \n",
      " 10  nas_ct               30576 non-null  int64 \n",
      " 11  security_ct          30576 non-null  int64 \n",
      " 12  late_aircraft_ct     30576 non-null  int64 \n",
      " 13  arr_cancelled        30576 non-null  int64 \n",
      " 14  arr_diverted         30576 non-null  int64 \n",
      " 15   arr_delay           30576 non-null  int64 \n",
      " 16   carrier_delay       30576 non-null  int64 \n",
      " 17  weather_delay        30576 non-null  int64 \n",
      " 18  nas_delay            30576 non-null  int64 \n",
      " 19  security_delay       30576 non-null  int64 \n",
      " 20  late_aircraft_delay  30576 non-null  int64 \n",
      "dtypes: int64(17), object(4)\n",
      "memory usage: 5.1+ MB\n"
     ]
    }
   ],
   "source": [
    "df.info()"
   ]
  },
  {
   "cell_type": "markdown",
   "metadata": {
    "slideshow": {
     "slide_type": "skip"
    }
   },
   "source": [
    "## Univariate Exploration"
   ]
  },
  {
   "cell_type": "code",
   "execution_count": 47,
   "metadata": {
    "slideshow": {
     "slide_type": "skip"
    }
   },
   "outputs": [],
   "source": [
    "#copy df into df_clean \n",
    "df_clean=df"
   ]
  },
  {
   "cell_type": "markdown",
   "metadata": {
    "slideshow": {
     "slide_type": "slide"
    }
   },
   "source": [
    "### Visualization 1\n",
    "### Distribution of number of arrived in the airport "
   ]
  },
  {
   "cell_type": "code",
   "execution_count": 48,
   "metadata": {
    "slideshow": {
     "slide_type": "subslide"
    }
   },
   "outputs": [
    {
     "data": {
      "image/png": "[encoded data removed]",
      "text/plain": [
       "<Figure size 432x288 with 1 Axes>"
      ]
     },
     "metadata": {
      "needs_background": "light"
     },
     "output_type": "display_data"
    }
   ],
   "source": [
    "#Histogram of number of flights\n",
    "df_clean['arr_flights'].value_counts().plot(kind='hist')\n",
    "plt.xlabel(\"arr_flights_value\")\n",
    "plt.title('Number of flights Distribution')\n",
    "plt.show()"
   ]
  },
  {
   "cell_type": "code",
   "execution_count": 49,
   "metadata": {
    "slideshow": {
     "slide_type": "skip"
    }
   },
   "outputs": [
    {
     "data": {
      "image/png": "[encoded data removed]",
      "text/plain": [
       "<Figure size 432x288 with 1 Axes>"
      ]
     },
     "metadata": {
      "needs_background": "light"
     },
     "output_type": "display_data"
    }
   ],
   "source": [
    "#Histogram number of flights due to weather \n",
    "df_clean[' weather_ct'].value_counts().plot(kind='hist')\n",
    "plt.title(\"Number of flights delayed due to weather Distribution\")\n",
    "plt.xlabel(\"weather_ct_values\")\n",
    "plt.show()"
   ]
  },
  {
   "cell_type": "code",
   "execution_count": 50,
   "metadata": {
    "slideshow": {
     "slide_type": "skip"
    }
   },
   "outputs": [
    {
     "data": {
      "image/png": "[encoded data removed]",
      "text/plain": [
       "<Figure size 432x288 with 1 Axes>"
      ]
     },
     "metadata": {
      "needs_background": "light"
     },
     "output_type": "display_data"
    }
   ],
   "source": [
    "#Histogram number of flights due to NAS \n",
    "df_clean['nas_ct'].value_counts().plot(kind='hist')\n",
    "plt.title(\"Number of flights delayed due to National Aviation System Distribution\")\n",
    "plt.xlabel(\"nas_ct_values\")\n",
    "plt.show()"
   ]
  },
  {
   "cell_type": "markdown",
   "metadata": {
    "slideshow": {
     "slide_type": "slide"
    }
   },
   "source": [
    "### Visualization 2 \n",
    "### Bar plot to show counts of airline carriers used "
   ]
  },
  {
   "cell_type": "code",
   "execution_count": 51,
   "metadata": {
    "slideshow": {
     "slide_type": "slide"
    }
   },
   "outputs": [
    {
     "data": {
      "image/png": "[encoded data removed]",
      "text/plain": [
       "<Figure size 432x288 with 1 Axes>"
      ]
     },
     "metadata": {
      "needs_background": "light"
     },
     "output_type": "display_data"
    }
   ],
   "source": [
    "#Carrier bar chart\n",
    "base_color=sb.color_palette()[0]\n",
    "carrier_order = df_clean['carrier_name'].value_counts().index\n",
    "sb.countplot(data=df_clean,x='carrier_name',color=base_color,order=carrier_order)\n",
    "plt.title(\"Carriers Counts\")\n",
    "plt.xticks(rotation = 90)\n",
    "plt.show()"
   ]
  },
  {
   "cell_type": "markdown",
   "metadata": {
    "slideshow": {
     "slide_type": "slide"
    }
   },
   "source": [
    "###  The distribution of variables of interest.\n",
    "Left Skewed distribution of number of flights , number of flights delayed due to weather and number of flights delayed due to National Aviation System\n",
    "There are outliers in weather ct between 17500 and 20000\n",
    "\n",
    "### Skywest is a North American regional airline  , it is the most used\n"
   ]
  },
  {
   "cell_type": "markdown",
   "metadata": {
    "slideshow": {
     "slide_type": "skip"
    }
   },
   "source": [
    "## Bivariate Exploration"
   ]
  },
  {
   "cell_type": "code",
   "execution_count": 52,
   "metadata": {
    "slideshow": {
     "slide_type": "skip"
    }
   },
   "outputs": [
    {
     "data": {
      "image/png": "[encoded data removed]",
      "text/plain": [
       "<Figure size 432x288 with 1 Axes>"
      ]
     },
     "metadata": {
      "needs_background": "light"
     },
     "output_type": "display_data"
    }
   ],
   "source": [
    "#Violin plot between year and flights \n",
    "sb.violinplot(data=df_clean,x='year',y='arr_flights',color=base_color,inner=None)\n",
    "plt.show()"
   ]
  },
  {
   "cell_type": "code",
   "execution_count": 53,
   "metadata": {
    "slideshow": {
     "slide_type": "skip"
    }
   },
   "outputs": [
    {
     "data": {
      "image/png": "[encoded data removed]",
      "text/plain": [
       "<Figure size 432x288 with 1 Axes>"
      ]
     },
     "metadata": {
      "needs_background": "light"
     },
     "output_type": "display_data"
    }
   ],
   "source": [
    "#See sample of values of air flights \n",
    "df_clean['arr_flights'].value_counts().head(20).plot(kind='barh')\n",
    "plt.xlabel('arr_flights_count')\n",
    "plt.ylabel('arr_flights_value')\n",
    "plt.show()"
   ]
  },
  {
   "cell_type": "code",
   "execution_count": 54,
   "metadata": {
    "slideshow": {
     "slide_type": "skip"
    }
   },
   "outputs": [
    {
     "data": {
      "image/png": "[encoded data removed]",
      "text/plain": [
       "<Figure size 432x288 with 1 Axes>"
      ]
     },
     "metadata": {
      "needs_background": "light"
     },
     "output_type": "display_data"
    }
   ],
   "source": [
    "#Detect outliers \n",
    "sb.boxplot(data=df,x='arr_flights',color=base_color)\n",
    "plt.show()"
   ]
  },
  {
   "cell_type": "code",
   "execution_count": 55,
   "metadata": {
    "slideshow": {
     "slide_type": "skip"
    }
   },
   "outputs": [],
   "source": [
    "#Get number of flight less than 1000 to remove outliers\n",
    "df_clean=df_clean.query(\"arr_flights<1000\")"
   ]
  },
  {
   "cell_type": "code",
   "execution_count": 56,
   "metadata": {
    "slideshow": {
     "slide_type": "skip"
    }
   },
   "outputs": [
    {
     "data": {
      "text/plain": [
       "(28578, 21)"
      ]
     },
     "execution_count": 56,
     "metadata": {},
     "output_type": "execute_result"
    }
   ],
   "source": [
    "df_clean.shape"
   ]
  },
  {
   "cell_type": "markdown",
   "metadata": {
    "slideshow": {
     "slide_type": "slide"
    }
   },
   "source": [
    "### Visualization 3\n",
    "### Violin plot between year and number of flights "
   ]
  },
  {
   "cell_type": "code",
   "execution_count": 57,
   "metadata": {
    "slideshow": {
     "slide_type": "subslide"
    }
   },
   "outputs": [
    {
     "data": {
      "image/png": "[encoded data removed]",
      "text/plain": [
       "<Figure size 432x288 with 1 Axes>"
      ]
     },
     "metadata": {
      "needs_background": "light"
     },
     "output_type": "display_data"
    }
   ],
   "source": [
    "#Violin plot between year and number of flights \n",
    "sb.violinplot(data=df_clean,x='year',y='arr_flights',color=base_color,inner=None)\n",
    "plt.title(\"Number of flights within year\")\n",
    "plt.show()"
   ]
  },
  {
   "cell_type": "markdown",
   "metadata": {
    "slideshow": {
     "slide_type": "skip"
    }
   },
   "source": [
    "## I  think that number of flights in 2019  will be less than that in 2020 because of COVID19 but superizingly flights in 2020 tend to be more "
   ]
  },
  {
   "cell_type": "markdown",
   "metadata": {
    "slideshow": {
     "slide_type": "slide"
    }
   },
   "source": [
    "### Visualization 4\n",
    "### Violin plot which shows the relation between number of flights with respect to number of flights delayed due to weather in 2019 and 2020 year"
   ]
  },
  {
   "cell_type": "code",
   "execution_count": 58,
   "metadata": {
    "slideshow": {
     "slide_type": "subslide"
    }
   },
   "outputs": [
    {
     "data": {
      "image/png": "[encoded data removed]",
      "text/plain": [
       "<Figure size 432x288 with 1 Axes>"
      ]
     },
     "metadata": {
      "needs_background": "light"
     },
     "output_type": "display_data"
    }
   ],
   "source": [
    "yticks=np.arange(0,1000+200,200)\n",
    "sb.violinplot(data=df_clean,x='carrier_name',y='arr_flights',color=base_color,inner=None)\n",
    "plt.title(\"Number of arrived flights arrived through carriers  \")\n",
    "plt.xticks(rotation = 90)\n",
    "plt.yticks(yticks)\n",
    "plt.show()"
   ]
  },
  {
   "cell_type": "markdown",
   "metadata": {
    "slideshow": {
     "slide_type": "skip"
    }
   },
   "source": [
    "### Allegiant Air is an American low-cost airline, it shows the largest number of arrived flights"
   ]
  },
  {
   "cell_type": "code",
   "execution_count": 59,
   "metadata": {
    "slideshow": {
     "slide_type": "skip"
    }
   },
   "outputs": [
    {
     "data": {
      "image/png": "[encoded data removed]",
      "text/plain": [
       "<Figure size 432x288 with 1 Axes>"
      ]
     },
     "metadata": {
      "needs_background": "light"
     },
     "output_type": "display_data"
    }
   ],
   "source": [
    "plt.scatter(data = df_clean, x = 'security_ct', y = 'arr_flights')\n",
    "plt.title(\"Number of arrived flights VS Number of flights delayed due to security  \")\n",
    "plt.xlabel('security_ct')\n",
    "plt.ylabel('arr_flights')\n",
    "plt.show()"
   ]
  },
  {
   "cell_type": "markdown",
   "metadata": {
    "slideshow": {
     "slide_type": "slide"
    }
   },
   "source": [
    "It seems it is slightly positive correlation between number of flights delayed due to security , this can be because when there is care about security number of flights arrived increases \n",
    "\n",
    "### Interesting insights\n",
    "\n",
    " I  think that number of flights in 2019  will be less than that in 2020 because of COVID19 but surprizingly flights in 2020 tend to be more \n",
    " Allegiant Air is an American low-cost airline shows the largest number of flights\n",
    " \n",
    " "
   ]
  },
  {
   "cell_type": "markdown",
   "metadata": {
    "slideshow": {
     "slide_type": "skip"
    }
   },
   "source": [
    "## Multivariate Exploration"
   ]
  },
  {
   "cell_type": "code",
   "execution_count": 60,
   "metadata": {
    "slideshow": {
     "slide_type": "skip"
    }
   },
   "outputs": [
    {
     "data": {
      "text/plain": [
       "(28578, 21)"
      ]
     },
     "execution_count": 60,
     "metadata": {},
     "output_type": "execute_result"
    }
   ],
   "source": [
    "df_clean.shape"
   ]
  },
  {
   "cell_type": "code",
   "execution_count": 61,
   "metadata": {
    "slideshow": {
     "slide_type": "subslide"
    }
   },
   "outputs": [
    {
     "data": {
      "image/png": "[encoded data removed]",
      "text/plain": [
       "<Figure size 432x288 with 1 Axes>"
      ]
     },
     "metadata": {
      "needs_background": "light"
     },
     "output_type": "display_data"
    }
   ],
   "source": [
    "year_markers = [[2020, 'o'],\n",
    "               [2019, 's']]\n",
    "\n",
    "for year, marker in year_markers:\n",
    "    df_temp = df_clean[df_clean['year'] ==year ]\n",
    "    plt.scatter(data = df_temp, x = 'nas_ct', y = ' weather_ct', marker = marker)\n",
    "plt.legend(['2020','2019'])\n",
    "plt.xlabel('nas_ct')\n",
    "plt.ylabel('weather_ct')\n",
    "plt.title('Number of flights delayed due to weather VS Number of flights delayed due to NAS ')\n",
    "plt.show()"
   ]
  },
  {
   "cell_type": "markdown",
   "metadata": {
    "slideshow": {
     "slide_type": "slide"
    }
   },
   "source": [
    "### Visualization 5\n",
    "### Scatter plot which shows the relation between number of flights with respect to number of flights delayed due to weather in 2019 and 2020 year"
   ]
  },
  {
   "cell_type": "code",
   "execution_count": 31,
   "metadata": {
    "slideshow": {
     "slide_type": "subslide"
    }
   },
   "outputs": [
    {
     "data": {
      "image/png": "[encoded data removed]",
      "text/plain": [
       "<Figure size 432x288 with 1 Axes>"
      ]
     },
     "metadata": {
      "needs_background": "light"
     },
     "output_type": "display_data"
    }
   ],
   "source": [
    "year_markers = [[2020, 'o'],\n",
    "               [2019, '^']]\n",
    "\n",
    "for year, marker in year_markers:\n",
    "    df_temp = df_clean[df_clean['year'] ==year ]\n",
    "    plt.scatter(data = df_temp, x = ' weather_ct', y = 'arr_flights', marker = marker)\n",
    "plt.legend(['2020','2019'])\n",
    "plt.title('Number of flights with respect to the number of flights delayed due to weather within year')\n",
    "plt.xlabel('weather_ct')\n",
    "plt.ylabel('arr_flights')\n",
    "plt.show()"
   ]
  },
  {
   "cell_type": "markdown",
   "metadata": {
    "slideshow": {
     "slide_type": "slide"
    }
   },
   "source": [
    "###  I want to see the relationship between number of flights delayed due to weather and number of flights delayed due to National Aviation System it seems it is a positive correlation in both year 2019 and 2020\n",
    "\n",
    "### The relationships between features \n",
    "it seems it is a positive correlation in both year 2019 and 2020 between weather_ct and nas_ct \n",
    "it seems it is a positive correlation in both year 2019 and 2020 between number of flights and weather_ct \n",
    "\n",
    "###  Interesting interactions between features\n",
    "it is interseting  that the relation between arr_flights and weather_ct is positive correlation ,number of flights delayed due to weather is positive correlated with the number of flights arrived  this can be because when there is care about weather circumstances and care of  national aviation  system , number of flights increases"
   ]
  },
  {
   "cell_type": "code",
   "execution_count": 32,
   "metadata": {
    "slideshow": {
     "slide_type": "skip"
    }
   },
   "outputs": [
    {
     "name": "stderr",
     "output_type": "stream",
     "text": [
      "[NbConvertApp] Converting notebook Project3.ipynb to slides\n",
      "[NbConvertApp] Writing 442696 bytes to Project3.slides.html\n"
     ]
    }
   ],
   "source": [
    "!jupyter nbconvert Project3.ipynb --to slides  --template output_toggle"
   ]
  },
  {
   "cell_type": "code",
   "execution_count": null,
   "metadata": {},
   "outputs": [],
   "source": []
  }
 ],
 "metadata": {
  "celltoolbar": "Slideshow",
  "kernelspec": {
   "display_name": "Python 3.6 (tensorflow)",
   "language": "python",
   "name": "tensorflow"
  },
  "language_info": {
   "codemirror_mode": {
    "name": "ipython",
    "version": 3
   },
   "file_extension": ".py",
   "mimetype": "text/x-python",
   "name": "python",
   "nbconvert_exporter": "python",
   "pygments_lexer": "ipython3",
   "version": "3.6.8"
  }
 },
 "nbformat": 4,
 "nbformat_minor": 2
}
